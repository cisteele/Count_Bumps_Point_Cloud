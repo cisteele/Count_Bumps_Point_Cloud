{
 "cells": [
  {
   "cell_type": "markdown",
   "metadata": {},
   "source": [
    "This function, count_bumps_DBSCAN, is designed to count the number of structures in a 3D point cloud that rise above (or fall below) the flat 2D plane at height 0.  \n",
    "\n",
    "The function requires numpy imported as np, pandas imported as pd, and the DBSCAN class imported from sklearn.cluster.\n",
    "\n",
    "The function first removes all datapoints at height 0, then inputs the lateral coordinates (components 0 and 1) into the Density-Based Spacial Clustering Applications with Noise model, https://en.wikipedia.org/wiki/DBSCAN.  \n",
    "\n",
    "The DBSCAN model operates by selecting a random point in the dataset, then counts the number of points which are within a distance set by the epsilon value (eps) hyperparameter.  Then, if that count is higher than the min_samples hyperparameter, the model creates a cluster and continues adding any points to that cluster that are within distance episolon of another point in the cluster.  Once there are no more points to add to the cluster, the model picks a random new point and begins the process anew.  Any points that are not within epsilon distance of a number of other points greater than min_samples will be labeled as noise with a -1 and not addeed to any cluster. \n",
    "\n",
    "This function does not take advantage of any data about the height of the bumps, and will count bumps of any shape (snaking hills, long walls, donuts, bumps that have bumps on them will be counted as 1).  It will also find dips below height 0 (holes and valleys). \n",
    "\n",
    "Please note that this function only works on datasets where the majority of datapoints are part of a flat 2D plane at height 0 and all bumps are spaced at least 6 units from the nearest bump.  "
   ]
  },
  {
   "cell_type": "code",
   "execution_count": 1,
   "metadata": {},
   "outputs": [],
   "source": [
    "import numpy as np\n",
    "import pandas as pd\n",
    "from sklearn.cluster import DBSCAN\n",
    "\n",
    "def count_bumps_DBSCAN(point_cloud_csv_path):\n",
    "    eps = 6\n",
    "    min_samples = 2\n",
    "    \n",
    "    # Create a DataFrame with 3 fields: 0, 1, and 2 (corresponding to x, y, and z).\n",
    "    df = pd.read_csv(point_cloud_csv_path, header = None)\n",
    "    \n",
    "    # Remove all datapoints with component 2 having a value of 0.\n",
    "    df_bumps = df[df[2] != 0]\n",
    "    \n",
    "    # Define Density Based Spacial Clustering Applications w/ Noise clustering model.\n",
    "    # The hyperparameters for this model were manually discovered using the bumps_16.txt training data.\n",
    "    dbscan_cluster = DBSCAN(eps=eps, min_samples=min_samples)\n",
    "    \n",
    "    # Fit model and create an array with the cluster label for each datapoint\n",
    "    clusters = dbscan_cluster.fit_predict(df_bumps[[0, 1]])\n",
    "    \n",
    "    # Count the number of unique cluster labels.\n",
    "    bump_count = np.unique(clusters)\n",
    "    \n",
    "    # Return that value as the number of bumps.\n",
    "    return len(bump_count)"
   ]
  },
  {
   "cell_type": "code",
   "execution_count": 2,
   "metadata": {},
   "outputs": [
    {
     "data": {
      "text/plain": [
       "16"
      ]
     },
     "execution_count": 2,
     "metadata": {},
     "output_type": "execute_result"
    }
   ],
   "source": [
    "count_bumps_DBSCAN('bumps_16.txt')"
   ]
  },
  {
   "cell_type": "code",
   "execution_count": 3,
   "metadata": {},
   "outputs": [
    {
     "name": "stdout",
     "output_type": "stream",
     "text": [
      "Time elapsed: 2.3794944286346436 seconds\n",
      "Bumps counted: 193\n"
     ]
    }
   ],
   "source": [
    "import time\n",
    "\n",
    "# takes ~ 2 seconds\n",
    "time_start = time.time()\n",
    "\n",
    "count = count_bumps_DBSCAN('bumps.txt')\n",
    "\n",
    "print('Time elapsed: {} seconds'.format(time.time()-time_start))\n",
    "print('Bumps counted: {}'.format(count))"
   ]
  }
 ],
 "metadata": {
  "kernelspec": {
   "display_name": "Python 3",
   "language": "python",
   "name": "python3"
  },
  "language_info": {
   "codemirror_mode": {
    "name": "ipython",
    "version": 3
   },
   "file_extension": ".py",
   "mimetype": "text/x-python",
   "name": "python",
   "nbconvert_exporter": "python",
   "pygments_lexer": "ipython3",
   "version": "3.7.6"
  }
 },
 "nbformat": 4,
 "nbformat_minor": 4
}
